{
  "cells": [
    {
      "cell_type": "markdown",
      "metadata": {
        "id": "uut4CBZMCqOh"
      },
      "source": [
        "# Final Exam Assignment (40 points - Total of 45 is Possible)\n",
        "## Due December 7, 2022, @ 8:00 am\n",
        "Note that there will be no extensions given for this assignment as there is a tight timeline for grading. \n",
        "\n",
        "For this assignment, I have provided each of you with your own training dataset. Your goal is to train a deep neural network to uncover the code image provided to you. \n",
        "\n",
        "I will provide you with instructions throughout. "
      ]
    },
    {
      "cell_type": "code",
      "execution_count": 1,
      "metadata": {
        "id": "siMiNR67CqOo"
      },
      "outputs": [],
      "source": [
        "# Add your import statements here\n",
        "import os\n",
        "import numpy as np\n",
        "import urllib\n",
        "import time\n",
        "import sys\n",
        "from sklearn.preprocessing import MinMaxScaler\n",
        "from sklearn.preprocessing import StandardScaler\n",
        "from sklearn.model_selection import train_test_split\n",
        "import torch\n",
        "from torch.utils.data import DataLoader\n",
        "from torch import nn\n",
        "import matplotlib.pyplot as plt"
      ]
    },
    {
      "cell_type": "code",
      "execution_count": 2,
      "metadata": {
        "tags": [
          "skip-execution"
        ],
        "id": "ydvrsEtTCqOq"
      },
      "outputs": [],
      "source": [
        "# This is a tool I have provided you to help you download your file.\n",
        "\n",
        "def download_file(url, filename):\n",
        "    \"\"\"\n",
        "    A function that downloads the data file from a URL\n",
        "    Parameters\n",
        "    ----------\n",
        "    url : string\n",
        "        url where the file to download is located\n",
        "    filename : string\n",
        "        location where to save the file\n",
        "    reporthook : function\n",
        "        callback to display the download progress\n",
        "    \"\"\"\n",
        "    if not os.path.isfile(filename):\n",
        "        urllib.request.urlretrieve(url, filename, reporthook)\n",
        "        \n",
        "def reporthook(count, block_size, total_size):\n",
        "    \"\"\"\n",
        "    A function that displays the status and speed of the download\n",
        "    \"\"\"\n",
        "\n",
        "    global start_time\n",
        "    if count == 0:\n",
        "        start_time = time.time()\n",
        "        return\n",
        "    duration = time.time() - start_time\n",
        "    progress_size = int(count * block_size)\n",
        "    speed = int(progress_size / (1024 * duration + 0.0001))\n",
        "    percent = int(count * block_size * 100 / total_size)\n",
        "    sys.stdout.write(\"\\r...%d%%, %d MB, %d KB/s, %d seconds passed\" %\n",
        "                     (percent, progress_size / (1024 * 1024), speed, duration))\n",
        "    sys.stdout.flush()"
      ]
    },
    {
      "cell_type": "code",
      "execution_count": 3,
      "metadata": {
        "tags": [
          "skip-execution"
        ],
        "id": "VjdyWeDnCqOr"
      },
      "outputs": [],
      "source": [
        "# You can download your file by typing your first name into the name block\n",
        "# The name used is the first part of your first name as listed in BB learn\n",
        "# If you have problems downloading the data please reach out to me\n",
        "\n",
        "name = 'Lauren'\n",
        "download_file(f'https://zenodo.org/record/7339649/files/data_{name}.npz?download=1','data.npz')"
      ]
    },
    {
      "cell_type": "markdown",
      "metadata": {
        "id": "vXWvENmMCqOr"
      },
      "source": [
        "## Loading the Data (3 points)\n",
        "The data is provided to you as a compressed NumPy array saved as 'data.npz'. When working with real data you might need to figure out how data is stored. Use the information on 'npz' files to figure out what data you have. The data file contains three NumPy arrays. \n",
        "1. The features for the training dataset\n",
        "2. The regression values for the training dataset\n",
        "3. The validation features that contain your code"
      ]
    },
    {
      "cell_type": "code",
      "execution_count": 4,
      "metadata": {
        "id": "5sbNxYGtCqOs",
        "colab": {
          "base_uri": "https://localhost:8080/"
        },
        "outputId": "f5fc3bb8-fcd6-4386-ab7e-3d8b44bc8732"
      },
      "outputs": [
        {
          "output_type": "stream",
          "name": "stdout",
          "text": [
            "Training Features:  (100000, 30)\n",
            "Regression Values:  (100000, 3)\n",
            "Validation Features:  (65536, 30)\n"
          ]
        }
      ],
      "source": [
        "with np.load('data.npz', allow_pickle=True) as data:\n",
        "    training_feat = data['training_feat']   #features for training dataset\n",
        "    training_true = data['training_true']   #regression values for training dataset\n",
        "    validation_feat = data['validation_feat'] #validation features that contain your code\n",
        "\n",
        "#check sizes\n",
        "print(\"Training Features: \", training_feat.shape)\n",
        "print(\"Regression Values: \", training_true.shape)\n",
        "print(\"Validation Features: \", validation_feat.shape)     "
      ]
    },
    {
      "cell_type": "markdown",
      "metadata": {
        "id": "UExFzmBSCqOt"
      },
      "source": [
        "## Preprocessing the Data (5 points)\n",
        "\n",
        "You should explore the data and figure out the best way to preprocess the data. \n",
        "\n",
        "Hints: \n",
        "1. For the regression values, these at the end will represent colors in RGB space from [0,1]. It is recommended to use a max-min scalar between 0 and 1. \n",
        "2. For the training features, you should look at the data and determine the best scaling method. Look at our class notes for a reminder of what other scaler might be useful. "
      ]
    },
    {
      "cell_type": "code",
      "execution_count": 5,
      "metadata": {
        "id": "r2RVPch_CqOv"
      },
      "outputs": [],
      "source": [
        "#Regression Values, min-max scalar\n",
        "mm_scaler = MinMaxScaler()\n",
        "scaled_training_true = mm_scaler.fit_transform(training_true)   \n",
        "\n",
        "#Training features, standard scaler\n",
        "s_scaler =  StandardScaler()\n",
        "scaled_training_feat = s_scaler.fit_transform(training_feat)"
      ]
    },
    {
      "cell_type": "markdown",
      "metadata": {
        "id": "tQkXGOPiCqOv"
      },
      "source": [
        "## Building the Dataset (5 points)\n",
        "\n",
        "When training neural networks it is important to build a dataset that allows the machinery to sample the data. This also can be used to conduct some preprocessing of the data to make it work with PyTorch. \n",
        "\n",
        "I have provided you with the framework for a Dataset Class. \n",
        "\n",
        "You should:\n",
        "1. Convert the x and y data to a tensor 'float32' and put it on the GPU.\n",
        "2. Save the len of the data\n",
        "3. Add the code so when `__getitem__` is called it returns the x and y values\n",
        "3. make it so `__len__` returns the lenght when calle\n"
      ]
    },
    {
      "cell_type": "code",
      "execution_count": 6,
      "metadata": {
        "tags": [
          "skip-execution"
        ],
        "id": "4SYPdiNlCqOw"
      },
      "outputs": [],
      "source": [
        "class Data(): #TODO: what is Dataset inheritance in the copied code\n",
        "  '''Dataset Class to store the samples and their corresponding labels, \n",
        "  and DataLoader wraps an iterable around the Dataset to enable easy access to the samples.\n",
        "  '''\n",
        "\n",
        "  def __init__(self, X: np.ndarray, y: np.ndarray, device = 'cuda') -> None:\n",
        "\n",
        "    # need to convert float64 to float32 else \n",
        "    # will get the following error\n",
        "    # RuntimeError: expected scalar type Double but found Float\n",
        "    self.X = X.astype(np.float32)\n",
        "    self.y = y.astype(np.float32)\n",
        "    self.len = len(self.X)\n",
        "  \n",
        "  def __getitem__(self, index: int) -> tuple:\n",
        "    return self.X[index], self.y[index]\n",
        "\n",
        "  def __len__(self) -> int:\n",
        "    return self.len"
      ]
    },
    {
      "cell_type": "markdown",
      "metadata": {
        "id": "mlYs7nmPCqOw"
      },
      "source": [
        "## Train-test Split (3 points)\n",
        "\n",
        "1. You should conduct a train-test split of the training data so you can make sure that your model does not overfit the data. A good ratio is 66/33 train \n",
        "2. You should instantiate the training dataset using the data class implemented above.\n"
      ]
    },
    {
      "cell_type": "code",
      "execution_count": 7,
      "metadata": {
        "id": "PBPg5KbGCqOw",
        "colab": {
          "base_uri": "https://localhost:8080/"
        },
        "outputId": "5d892151-da22-4b7a-c8c2-6bb0c0804d64"
      },
      "outputs": [
        {
          "output_type": "stream",
          "name": "stdout",
          "text": [
            "(67000, 30) (67000, 3)\n"
          ]
        }
      ],
      "source": [
        "#Split train/test and put into Data object\n",
        "X_train, X_test, y_train, y_test = train_test_split(scaled_training_feat, scaled_training_true, test_size = 0.33, random_state = 42)\n",
        "training_data = Data(X_train, y_train)\n",
        "\n",
        "#check results\n",
        "print(training_data.X.shape, training_data.y.shape)"
      ]
    },
    {
      "cell_type": "markdown",
      "metadata": {
        "id": "Eu4SIHHUCqOx"
      },
      "source": [
        "## Build the Dataloader (3 points)\n",
        "\n",
        "Pytorch uses DataLoaders to efficiently sample from a training dataset. Instantiate a Pytorch DataLoader using the dataset. \n",
        "\n",
        "You should set the following parameters:\n",
        "1. Batch size = 64\n",
        "2. Shuffle = True"
      ]
    },
    {
      "cell_type": "code",
      "execution_count": 8,
      "metadata": {
        "id": "P6n1vlLSCqOx"
      },
      "outputs": [],
      "source": [
        "train_dataloader = DataLoader(training_data, batch_size = 64, shuffle = True)"
      ]
    },
    {
      "cell_type": "markdown",
      "metadata": {
        "id": "G62_UOgGCqOx"
      },
      "source": [
        "## Building a Neural Network (5 points)\n",
        "\n",
        "Using the provided class framework which inherits the `nn.Module` type in PyTorch builds a 4-layer neural network to complete the multiple regression.\n",
        "\n"
      ]
    },
    {
      "cell_type": "code",
      "execution_count": 9,
      "metadata": {
        "tags": [
          "skip-execution"
        ],
        "id": "8WJzqUHiCqOx",
        "colab": {
          "base_uri": "https://localhost:8080/"
        },
        "outputId": "14029e61-e3ad-44a7-f51a-e397bcd4f27f"
      },
      "outputs": [
        {
          "output_type": "stream",
          "name": "stdout",
          "text": [
            "Using cuda device\n"
          ]
        }
      ],
      "source": [
        "device = \"cuda\" if torch.cuda.is_available() else \"cpu\"\n",
        "print(f\"Using {device} device\")\n",
        "\n",
        "class Neural_Network(nn.Module):\n",
        "  ''' Regression Model\n",
        "  ''' \n",
        "\n",
        "  # note, you can ignore the `:int` and `-> None` this is just more advanced doctring syntax\n",
        "  def __init__(self, input_dim: int, hidden_dim: int, output_dim: int) -> None:\n",
        "      '''The network has 4 layers\n",
        "            - input layer\n",
        "            - ReLu\n",
        "            - hidden layer\n",
        "            - ReLu\n",
        "            - hidden layer\n",
        "            - ReLu\n",
        "            - output layer\n",
        "      '''\n",
        "      super(Neural_Network, self).__init__()\n",
        "      # in this part you should intantiate each of the layer components\n",
        "      self.flatten = nn.Flatten()\n",
        "      self.linear_relu_stack = nn.Sequential(\n",
        "          nn.Linear(input_dim, input_dim),  #input\n",
        "          nn.ReLU(),                        #ReLu\n",
        "          nn.Linear(input_dim, hidden_dim), #hidden\n",
        "          nn.ReLU(),                        #ReLu\n",
        "          nn.Linear(hidden_dim, output_dim),#hidden\n",
        "          nn.ReLU(),                        #ReLu\n",
        "          nn.Linear(output_dim, output_dim))#output\n",
        "\n",
        "  def forward(self, x: torch.Tensor) -> torch.Tensor:\n",
        "      # In this part you should build a model that returns the 3 outputs of the regression\n",
        "      x = self.flatten(x)\n",
        "      preds = self.linear_relu_stack(x)\n",
        "      \n",
        "      return preds\n",
        "  "
      ]
    },
    {
      "cell_type": "markdown",
      "metadata": {
        "id": "Me91Q395CqOy"
      },
      "source": [
        "## Instantiate the Model (3 points)\n",
        "\n"
      ]
    },
    {
      "cell_type": "code",
      "execution_count": 10,
      "metadata": {
        "tags": [
          "skip-execution"
        ],
        "id": "OjLry29RCqOy"
      },
      "outputs": [],
      "source": [
        "# number of features (len of X cols)\n",
        "input_dim = X_train.shape[1]\n",
        "# number of hidden layers set this to 50\n",
        "hidden_layers = 50\n",
        "# Add the number of output dimensions\n",
        "output_dim = 3"
      ]
    },
    {
      "cell_type": "code",
      "execution_count": 11,
      "metadata": {
        "tags": [
          "skip-execution"
        ],
        "id": "n0FZbo0jCqOy",
        "colab": {
          "base_uri": "https://localhost:8080/"
        },
        "outputId": "b5d14339-dfb3-438e-9b8e-8e8df159c25c"
      },
      "outputs": [
        {
          "output_type": "stream",
          "name": "stdout",
          "text": [
            "Neural_Network(\n",
            "  (flatten): Flatten(start_dim=1, end_dim=-1)\n",
            "  (linear_relu_stack): Sequential(\n",
            "    (0): Linear(in_features=30, out_features=30, bias=True)\n",
            "    (1): ReLU()\n",
            "    (2): Linear(in_features=30, out_features=50, bias=True)\n",
            "    (3): ReLU()\n",
            "    (4): Linear(in_features=50, out_features=3, bias=True)\n",
            "    (5): ReLU()\n",
            "    (6): Linear(in_features=3, out_features=3, bias=True)\n",
            "  )\n",
            ")\n"
          ]
        }
      ],
      "source": [
        "# initiate the regression model\n",
        "# make sure to put it on your GPU\n",
        "model = Neural_Network(input_dim, hidden_layers, output_dim).to(device)\n",
        "print(model)\n",
        "\n",
        "# criterion to computes the loss between input and target\n",
        "# Choose a good criteria\n",
        "loss_fn = nn.MSELoss() #for regression tasks\n",
        "# optimizer that will be used to update weights and biases\n",
        "optimizer = torch.optim.Adam(model.parameters(), lr = 3e-5)\n",
        "# you can choose any optimizer. I would recommend ADAM.\n",
        "# This problem should not be hard to optimize. A good starting learning rate is 3e-5. "
      ]
    },
    {
      "cell_type": "markdown",
      "metadata": {
        "id": "82lwXNKdCqOz"
      },
      "source": [
        "## Train the Model (5 points)\n",
        "\n",
        "Training the model is conducted in a number of steps using loops.\n",
        "\n",
        "1. Set up a loop for each epoch\n",
        "2. Set a parameter to save the running loss\n",
        "3. Set up a nested loop that goes through the batches from the DataLoader you built\n",
        "    - I would recommend using enumerate to include the counts in the loop\n",
        "    - The dataloader will return a tuple that is the inputs and the labels\n",
        "4. Conduct the forward propagation of the model\n",
        "    - Give the model the inputs and compute the outputs\n",
        "    - Compute the loss given the criteria. \n",
        "5. Use the zero gradient method to remove the gradients from the optimizer\n",
        "6. Use the backward method to compute the gradients\n",
        "7. Use the step method in the optimizer to take an optimization step\n",
        "8. Compute the running loss by calling the item method and adding it to the running loss for each minibatch\n",
        "9. For each epoch print the epoch and the loss\n",
        "\n",
        "Note: If you find this challenging I would recommend that you look at examples of other pytorch training loops online. This is a very standard workflow. "
      ]
    },
    {
      "cell_type": "code",
      "execution_count": 12,
      "metadata": {
        "tags": [
          "skip-execution"
        ],
        "id": "kJLESBbQCqOz",
        "colab": {
          "base_uri": "https://localhost:8080/"
        },
        "outputId": "58e05fae-3a49-482e-fbd9-14f47ac5510e"
      },
      "outputs": [
        {
          "output_type": "stream",
          "name": "stdout",
          "text": [
            "Epoch 1\n",
            "-------------------------------\n",
            "loss: 0.447298  [    0/67000]\n",
            "loss: 0.432213  [ 6400/67000]\n",
            "loss: 0.431272  [12800/67000]\n",
            "loss: 0.413097  [19200/67000]\n",
            "loss: 0.396576  [25600/67000]\n",
            "loss: 0.325331  [32000/67000]\n",
            "loss: 0.301421  [38400/67000]\n",
            "loss: 0.247990  [44800/67000]\n",
            "loss: 0.208774  [51200/67000]\n",
            "loss: 0.174292  [57600/67000]\n",
            "loss: 0.141855  [64000/67000]\n",
            "Epoch 2\n",
            "-------------------------------\n",
            "loss: 0.163027  [    0/67000]\n",
            "loss: 0.136777  [ 6400/67000]\n",
            "loss: 0.120209  [12800/67000]\n",
            "loss: 0.119445  [19200/67000]\n",
            "loss: 0.102448  [25600/67000]\n",
            "loss: 0.098391  [32000/67000]\n",
            "loss: 0.075514  [38400/67000]\n",
            "loss: 0.080382  [44800/67000]\n",
            "loss: 0.067550  [51200/67000]\n",
            "loss: 0.076050  [57600/67000]\n",
            "loss: 0.055331  [64000/67000]\n",
            "Epoch 3\n",
            "-------------------------------\n",
            "loss: 0.060148  [    0/67000]\n",
            "loss: 0.049625  [ 6400/67000]\n",
            "loss: 0.052349  [12800/67000]\n",
            "loss: 0.046635  [19200/67000]\n",
            "loss: 0.042355  [25600/67000]\n",
            "loss: 0.036368  [32000/67000]\n",
            "loss: 0.031922  [38400/67000]\n",
            "loss: 0.032221  [44800/67000]\n",
            "loss: 0.029867  [51200/67000]\n",
            "loss: 0.028011  [57600/67000]\n",
            "loss: 0.025678  [64000/67000]\n",
            "Epoch 4\n",
            "-------------------------------\n",
            "loss: 0.026113  [    0/67000]\n",
            "loss: 0.022262  [ 6400/67000]\n",
            "loss: 0.023186  [12800/67000]\n",
            "loss: 0.023251  [19200/67000]\n",
            "loss: 0.020283  [25600/67000]\n",
            "loss: 0.016829  [32000/67000]\n",
            "loss: 0.020946  [38400/67000]\n",
            "loss: 0.022723  [44800/67000]\n",
            "loss: 0.019142  [51200/67000]\n",
            "loss: 0.015813  [57600/67000]\n",
            "loss: 0.016822  [64000/67000]\n",
            "Epoch 5\n",
            "-------------------------------\n",
            "loss: 0.022603  [    0/67000]\n",
            "loss: 0.020011  [ 6400/67000]\n",
            "loss: 0.021466  [12800/67000]\n",
            "loss: 0.019958  [19200/67000]\n",
            "loss: 0.016993  [25600/67000]\n",
            "loss: 0.018327  [32000/67000]\n",
            "loss: 0.020783  [38400/67000]\n",
            "loss: 0.016288  [44800/67000]\n",
            "loss: 0.014648  [51200/67000]\n",
            "loss: 0.019549  [57600/67000]\n",
            "loss: 0.015785  [64000/67000]\n",
            "Epoch 6\n",
            "-------------------------------\n",
            "loss: 0.019510  [    0/67000]\n",
            "loss: 0.017476  [ 6400/67000]\n",
            "loss: 0.015462  [12800/67000]\n",
            "loss: 0.017264  [19200/67000]\n",
            "loss: 0.014922  [25600/67000]\n",
            "loss: 0.015324  [32000/67000]\n",
            "loss: 0.015126  [38400/67000]\n",
            "loss: 0.018086  [44800/67000]\n",
            "loss: 0.018027  [51200/67000]\n",
            "loss: 0.013128  [57600/67000]\n",
            "loss: 0.015412  [64000/67000]\n",
            "Epoch 7\n",
            "-------------------------------\n",
            "loss: 0.015822  [    0/67000]\n",
            "loss: 0.017414  [ 6400/67000]\n",
            "loss: 0.013711  [12800/67000]\n",
            "loss: 0.013677  [19200/67000]\n",
            "loss: 0.014230  [25600/67000]\n",
            "loss: 0.015435  [32000/67000]\n",
            "loss: 0.013774  [38400/67000]\n",
            "loss: 0.015052  [44800/67000]\n",
            "loss: 0.014994  [51200/67000]\n",
            "loss: 0.013582  [57600/67000]\n",
            "loss: 0.014893  [64000/67000]\n",
            "Epoch 8\n",
            "-------------------------------\n",
            "loss: 0.011437  [    0/67000]\n",
            "loss: 0.010647  [ 6400/67000]\n",
            "loss: 0.012962  [12800/67000]\n",
            "loss: 0.012983  [19200/67000]\n",
            "loss: 0.012343  [25600/67000]\n",
            "loss: 0.013205  [32000/67000]\n",
            "loss: 0.011889  [38400/67000]\n",
            "loss: 0.012107  [44800/67000]\n",
            "loss: 0.011065  [51200/67000]\n",
            "loss: 0.012498  [57600/67000]\n",
            "loss: 0.012473  [64000/67000]\n",
            "Epoch 9\n",
            "-------------------------------\n",
            "loss: 0.012843  [    0/67000]\n",
            "loss: 0.010722  [ 6400/67000]\n",
            "loss: 0.012834  [12800/67000]\n",
            "loss: 0.010783  [19200/67000]\n",
            "loss: 0.011956  [25600/67000]\n",
            "loss: 0.009788  [32000/67000]\n",
            "loss: 0.012040  [38400/67000]\n",
            "loss: 0.010192  [44800/67000]\n",
            "loss: 0.010121  [51200/67000]\n",
            "loss: 0.011218  [57600/67000]\n",
            "loss: 0.010170  [64000/67000]\n",
            "Epoch 10\n",
            "-------------------------------\n",
            "loss: 0.010367  [    0/67000]\n",
            "loss: 0.010973  [ 6400/67000]\n",
            "loss: 0.009904  [12800/67000]\n",
            "loss: 0.010195  [19200/67000]\n",
            "loss: 0.011484  [25600/67000]\n",
            "loss: 0.010687  [32000/67000]\n",
            "loss: 0.010027  [38400/67000]\n",
            "loss: 0.010504  [44800/67000]\n",
            "loss: 0.010425  [51200/67000]\n",
            "loss: 0.009184  [57600/67000]\n",
            "loss: 0.008709  [64000/67000]\n",
            "Epoch 11\n",
            "-------------------------------\n",
            "loss: 0.010217  [    0/67000]\n",
            "loss: 0.008708  [ 6400/67000]\n",
            "loss: 0.009125  [12800/67000]\n",
            "loss: 0.010219  [19200/67000]\n",
            "loss: 0.011394  [25600/67000]\n",
            "loss: 0.010914  [32000/67000]\n",
            "loss: 0.007826  [38400/67000]\n",
            "loss: 0.009617  [44800/67000]\n",
            "loss: 0.008927  [51200/67000]\n",
            "loss: 0.010195  [57600/67000]\n",
            "loss: 0.010573  [64000/67000]\n",
            "Epoch 12\n",
            "-------------------------------\n",
            "loss: 0.007465  [    0/67000]\n",
            "loss: 0.008159  [ 6400/67000]\n",
            "loss: 0.008624  [12800/67000]\n",
            "loss: 0.007823  [19200/67000]\n",
            "loss: 0.010216  [25600/67000]\n",
            "loss: 0.008221  [32000/67000]\n",
            "loss: 0.008941  [38400/67000]\n",
            "loss: 0.008533  [44800/67000]\n",
            "loss: 0.009158  [51200/67000]\n",
            "loss: 0.009035  [57600/67000]\n",
            "loss: 0.010200  [64000/67000]\n",
            "Epoch 13\n",
            "-------------------------------\n",
            "loss: 0.008868  [    0/67000]\n",
            "loss: 0.007727  [ 6400/67000]\n",
            "loss: 0.009548  [12800/67000]\n",
            "loss: 0.008340  [19200/67000]\n",
            "loss: 0.008406  [25600/67000]\n",
            "loss: 0.009626  [32000/67000]\n",
            "loss: 0.008101  [38400/67000]\n",
            "loss: 0.008216  [44800/67000]\n",
            "loss: 0.007833  [51200/67000]\n",
            "loss: 0.007744  [57600/67000]\n",
            "loss: 0.008248  [64000/67000]\n",
            "Epoch 14\n",
            "-------------------------------\n",
            "loss: 0.007024  [    0/67000]\n",
            "loss: 0.008333  [ 6400/67000]\n",
            "loss: 0.008734  [12800/67000]\n",
            "loss: 0.007429  [19200/67000]\n",
            "loss: 0.008081  [25600/67000]\n",
            "loss: 0.007683  [32000/67000]\n",
            "loss: 0.010196  [38400/67000]\n",
            "loss: 0.007109  [44800/67000]\n",
            "loss: 0.007209  [51200/67000]\n",
            "loss: 0.007298  [57600/67000]\n",
            "loss: 0.007341  [64000/67000]\n",
            "Epoch 15\n",
            "-------------------------------\n",
            "loss: 0.008528  [    0/67000]\n",
            "loss: 0.006495  [ 6400/67000]\n",
            "loss: 0.007476  [12800/67000]\n",
            "loss: 0.008376  [19200/67000]\n",
            "loss: 0.007463  [25600/67000]\n",
            "loss: 0.008847  [32000/67000]\n",
            "loss: 0.008703  [38400/67000]\n",
            "loss: 0.007245  [44800/67000]\n",
            "loss: 0.008121  [51200/67000]\n",
            "loss: 0.007630  [57600/67000]\n",
            "loss: 0.006471  [64000/67000]\n",
            "Epoch 16\n",
            "-------------------------------\n",
            "loss: 0.007282  [    0/67000]\n",
            "loss: 0.006447  [ 6400/67000]\n",
            "loss: 0.008467  [12800/67000]\n",
            "loss: 0.007162  [19200/67000]\n",
            "loss: 0.006757  [25600/67000]\n",
            "loss: 0.008001  [32000/67000]\n",
            "loss: 0.006264  [38400/67000]\n",
            "loss: 0.006998  [44800/67000]\n",
            "loss: 0.009085  [51200/67000]\n",
            "loss: 0.007788  [57600/67000]\n",
            "loss: 0.008287  [64000/67000]\n",
            "Epoch 17\n",
            "-------------------------------\n",
            "loss: 0.006530  [    0/67000]\n",
            "loss: 0.006478  [ 6400/67000]\n",
            "loss: 0.006357  [12800/67000]\n",
            "loss: 0.007786  [19200/67000]\n",
            "loss: 0.008449  [25600/67000]\n",
            "loss: 0.006090  [32000/67000]\n",
            "loss: 0.006850  [38400/67000]\n",
            "loss: 0.006591  [44800/67000]\n",
            "loss: 0.006376  [51200/67000]\n",
            "loss: 0.007638  [57600/67000]\n",
            "loss: 0.007296  [64000/67000]\n",
            "Epoch 18\n",
            "-------------------------------\n",
            "loss: 0.008193  [    0/67000]\n",
            "loss: 0.006451  [ 6400/67000]\n",
            "loss: 0.007117  [12800/67000]\n",
            "loss: 0.006540  [19200/67000]\n",
            "loss: 0.007138  [25600/67000]\n",
            "loss: 0.010349  [32000/67000]\n",
            "loss: 0.007697  [38400/67000]\n",
            "loss: 0.007665  [44800/67000]\n",
            "loss: 0.006868  [51200/67000]\n",
            "loss: 0.006874  [57600/67000]\n",
            "loss: 0.007756  [64000/67000]\n",
            "Epoch 19\n",
            "-------------------------------\n",
            "loss: 0.008335  [    0/67000]\n",
            "loss: 0.008164  [ 6400/67000]\n",
            "loss: 0.007749  [12800/67000]\n",
            "loss: 0.008307  [19200/67000]\n",
            "loss: 0.005946  [25600/67000]\n",
            "loss: 0.006690  [32000/67000]\n",
            "loss: 0.006276  [38400/67000]\n",
            "loss: 0.007147  [44800/67000]\n",
            "loss: 0.008453  [51200/67000]\n",
            "loss: 0.007616  [57600/67000]\n",
            "loss: 0.005571  [64000/67000]\n",
            "Epoch 20\n",
            "-------------------------------\n",
            "loss: 0.005468  [    0/67000]\n",
            "loss: 0.006042  [ 6400/67000]\n",
            "loss: 0.006186  [12800/67000]\n",
            "loss: 0.006062  [19200/67000]\n",
            "loss: 0.006026  [25600/67000]\n",
            "loss: 0.006456  [32000/67000]\n",
            "loss: 0.006166  [38400/67000]\n",
            "loss: 0.005730  [44800/67000]\n",
            "loss: 0.008516  [51200/67000]\n",
            "loss: 0.008226  [57600/67000]\n",
            "loss: 0.006081  [64000/67000]\n"
          ]
        }
      ],
      "source": [
        "# start training\n",
        "epochs = 20 # sets the number of epochs to train 20 should be sufficent.\n",
        "# This should take about 5-10 minutes to train.\n",
        "\n",
        "def train_loop(dataloader, model, loss_fn, optimizer):\n",
        "    size = len(dataloader.dataset)\n",
        "    for batch, (X, y) in enumerate(dataloader):\n",
        "        # Compute prediction and loss\n",
        "        pred = model(X.cuda())\n",
        "        loss = loss_fn(pred, y.cuda())\n",
        "\n",
        "        # Backpropagation\n",
        "        optimizer.zero_grad()\n",
        "        loss.backward()\n",
        "        optimizer.step()\n",
        "\n",
        "        if batch % 100 == 0:\n",
        "            loss, current = loss.item(), batch * len(X)\n",
        "            print(f\"loss: {loss:>7f}  [{current:>5d}/{size:>5d}]\")\n",
        "\n",
        "for t in range(epochs):\n",
        "    print(f\"Epoch {t+1}\\n-------------------------------\")\n",
        "    train_loop(train_dataloader, model, loss_fn, optimizer)\n"
      ]
    },
    {
      "cell_type": "markdown",
      "metadata": {
        "id": "RrClvXXGCqOz"
      },
      "source": [
        "## Validate the Model (3 points)\n",
        "\n",
        "Use the test dataset from the train-test split to make sure your model is not overfitting\n",
        "\n",
        "1. You can build a dataloader as you did before, this time with the test data.\n",
        "2. Build a validation loop, which you should use `with torch.no_grad()` to make sure you do not modify the gradients, or weights. This will fix your model. \n",
        "3. Instantiate the loss to be 0.\n",
        "4. Build a similar loop to grab the validation dataset. \n",
        "5. Compute the predictions with the model.\n",
        "6. Compute the loss using your loss criteria.\n",
        "7. Print the final loss determined."
      ]
    },
    {
      "cell_type": "code",
      "execution_count": 13,
      "metadata": {
        "id": "ZsfVUCp9CqO0",
        "colab": {
          "base_uri": "https://localhost:8080/"
        },
        "outputId": "e556342b-6a98-4b6f-97b0-abedaa9ec219"
      },
      "outputs": [
        {
          "output_type": "stream",
          "name": "stdout",
          "text": [
            "Final Loss:  0.006787427968179533\n"
          ]
        }
      ],
      "source": [
        "test_data = Data(X_test, y_test)\n",
        "test_dataloader = DataLoader(test_data, batch_size = 64, shuffle = True)\n",
        "\n",
        "def test_loop(dataloader, model, loss_fn):\n",
        "    size = len(dataloader.dataset)\n",
        "    num_batches = len(dataloader)\n",
        "    test_loss = 0\n",
        "\n",
        "    with torch.no_grad():\n",
        "        for X, y in dataloader:\n",
        "            pred = model(X.cuda())\n",
        "            test_loss += loss_fn(pred, y.cuda()).item()\n",
        "            \n",
        "\n",
        "    test_loss /= num_batches\n",
        "    return test_loss\n",
        "    \n",
        "    \n",
        "for t in range(epochs):\n",
        "    test_loss = test_loop(test_dataloader, model, loss_fn)\n",
        "print(\"Final Loss: \", test_loss) "
      ]
    },
    {
      "cell_type": "markdown",
      "metadata": {
        "id": "mf0LggFoCqO0"
      },
      "source": [
        "<p style=\"color:blue\"> Question: Is your model overfitting or not? How do you know? (3 points) </p>"
      ]
    },
    {
      "cell_type": "markdown",
      "metadata": {
        "id": "5UnyrVvvCqO0"
      },
      "source": [
        "As shown in the results above, the loss of the final epoch of training was calculated to be in the range of ~0.0055 to ~0.0085 depending on the batch. The loss on the final epoch on the test set was ~0.0068. Since the loss of the testing data is not drastically larger than the losses in the training data, overfitting is not occurrring."
      ]
    },
    {
      "cell_type": "markdown",
      "metadata": {
        "id": "Kr_6OnntCqO0"
      },
      "source": [
        "## Crack Your Code (3 points)\n",
        "\n",
        "1. You can build a dataloader as you did before, this time with the validation features to view your code.\n",
        "2. Build a loop, you should use `with torch.no_grad()` to make sure you do not modify the gradients or weights. This will fix your model. \n",
        "3. Compute the predictions of your model. \n",
        "    - Make sure you do all the same preprocess, the data has the same datatype, and is on the same device"
      ]
    },
    {
      "cell_type": "code",
      "execution_count": 22,
      "metadata": {
        "id": "94opWiqdCqO1",
        "colab": {
          "base_uri": "https://localhost:8080/"
        },
        "outputId": "9b6e093c-e62f-4bbe-a4ec-98488bace57c"
      },
      "outputs": [
        {
          "output_type": "stream",
          "name": "stdout",
          "text": [
            "torch.Size([65536, 3])\n"
          ]
        }
      ],
      "source": [
        "s_scaler =  StandardScaler()\n",
        "scaled_validation_feat = s_scaler.fit_transform(validation_feat).astype(np.float32)\n",
        "validation_dataloader = DataLoader(torch.tensor(scaled_validation_feat))\n",
        "\n",
        "def valid_loop(dataloader, model):\n",
        "  with torch.no_grad():\n",
        "    predictions = model(validation_dataloader.dataset.cuda())\n",
        "  return predictions  \n",
        "\n",
        "for t in range(epochs):\n",
        "  predictions = valid_loop(validation_dataloader, model)\n",
        "\n",
        "#check results\n",
        "print(predictions.size())  "
      ]
    },
    {
      "cell_type": "markdown",
      "metadata": {
        "id": "tna_0IyUCqO1"
      },
      "source": [
        "## Reveal Your Code (3 points)\n",
        "\n",
        "Your code is an image. there are (65536, 3) predictions this corresponds to a (256,256,3) RGB image. \n",
        "1. Use the detach() method to remove the gradients from the tensor\n",
        "2. Transfer the tensor back to the 'cpu' if you had it on a GPU\n",
        "3. Reshape the image into a 256,256,3 array. \n",
        "4. Plot your successful result."
      ]
    },
    {
      "cell_type": "code",
      "execution_count": 23,
      "metadata": {
        "id": "deTTerlNCqO1",
        "colab": {
          "base_uri": "https://localhost:8080/",
          "height": 304
        },
        "outputId": "30863fb3-b69b-49b4-eea9-205159c21e64"
      },
      "outputs": [
        {
          "output_type": "stream",
          "name": "stderr",
          "text": [
            "WARNING:matplotlib.image:Clipping input data to the valid range for imshow with RGB data ([0..1] for floats or [0..255] for integers).\n"
          ]
        },
        {
          "output_type": "execute_result",
          "data": {
            "text/plain": [
              "<matplotlib.image.AxesImage at 0x7f0310348400>"
            ]
          },
          "metadata": {},
          "execution_count": 23
        },
        {
          "output_type": "display_data",
          "data": {
            "text/plain": [
              "<Figure size 432x288 with 1 Axes>"
            ],
            "image/png": "[encoded data removed]"
          },
          "metadata": {
            "needs_background": "light"
          }
        }
      ],
      "source": [
        "predictions = predictions.detach()\n",
        "predictions = predictions.to(\"cpu\")\n",
        "predictions = predictions.reshape((256, 256, 3))\n",
        "plt.imshow(predictions)"
      ]
    }
  ],
  "metadata": {
    "kernelspec": {
      "display_name": "Python 3 (ipykernel)",
      "language": "python",
      "name": "python3"
    },
    "language_info": {
      "codemirror_mode": {
        "name": "ipython",
        "version": 3
      },
      "file_extension": ".py",
      "mimetype": "text/x-python",
      "name": "python",
      "nbconvert_exporter": "python",
      "pygments_lexer": "ipython3",
      "version": "3.10.8"
    },
    "vscode": {
      "interpreter": {
        "hash": "c475b5beda6d617ffb7b2fcf453fbe132321ffc1e1f96c06cf49356e1e7f42cb"
      }
    },
    "colab": {
      "provenance": []
    },
    "accelerator": "GPU",
    "gpuClass": "standard"
  },
  "nbformat": 4,
  "nbformat_minor": 0
}